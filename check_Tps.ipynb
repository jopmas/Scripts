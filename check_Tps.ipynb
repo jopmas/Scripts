{
 "cells": [
  {
   "cell_type": "code",
   "execution_count": 1,
   "metadata": {},
   "outputs": [
    {
     "data": {
      "text/html": [
       "<style>.container { width:95% !important; }</style>"
      ],
      "text/plain": [
       "<IPython.core.display.HTML object>"
      ]
     },
     "metadata": {},
     "output_type": "display_data"
    },
    {
     "data": {
      "text/html": [
       "<style>.output_result { max-width:95% !important; }</style>"
      ],
      "text/plain": [
       "<IPython.core.display.HTML object>"
      ]
     },
     "metadata": {},
     "output_type": "display_data"
    }
   ],
   "source": [
    "#increase the display size to 95% of window width\n",
    "from IPython.display import display, HTML\n",
    "display(HTML(\"<style>.container { width:95% !important; }</style>\"))\n",
    "display(HTML(\"<style>.output_result { max-width:95% !important; }</style>\"))"
   ]
  },
  {
   "cell_type": "code",
   "execution_count": 12,
   "metadata": {},
   "outputs": [],
   "source": [
    "import os\n",
    "import shutil\n",
    "import subprocess\n",
    "import gc\n",
    "import xarray as xr\n",
    "import numpy as np\n",
    "import pymp\n",
    "\n",
    "import matplotlib.pyplot as plt\n",
    "from matplotlib.colors import LogNorm\n",
    "from matplotlib import rc\n",
    "from mpl_toolkits.axes_grid1.inset_locator import inset_axes\n",
    "from matplotlib.transforms import Bbox\n",
    "from matplotlib.patches import FancyBboxPatch\n",
    "from matplotlib.font_manager import FontProperties\n",
    "from matplotlib.ticker import (MultipleLocator, FormatStrFormatter,\n",
    "                               AutoMinorLocator)\n",
    "from scipy.interpolate import interp1d\n",
    "from scipy.interpolate import interp2d\n",
    "\n",
    "%matplotlib inline\n",
    "path = os.getcwd().split('/')\n",
    "\n",
    "machine_path = '/' + path[1] + '/' + path[2]\n",
    "\n",
    "plt.style.use(machine_path+'/Doutorado/cenarios/mandyoc/scripts/des.mplstyle')"
   ]
  },
  {
   "cell_type": "markdown",
   "metadata": {},
   "source": [
    "# Initial Setup"
   ]
  },
  {
   "cell_type": "code",
   "execution_count": 13,
   "metadata": {},
   "outputs": [
    {
     "name": "stdout",
     "output_type": "stream",
     "text": [
      "Model Path: /media/joao_macedo/Joao_Macedo/Doutorado/cenarios/mandyoc/keel/Lx3000km/keel_stable_DT200_HprodAst_Lx3000km\n",
      "Model name: keel_stable_DT200_HprodAst_Lx3000km\n"
     ]
    }
   ],
   "source": [
    "path = os.getcwd().split('/') # Get local file\n",
    "machine_path = '/'+path[1]+'/'+path[2] # Select home according to OS.\n",
    "\n",
    "# Path to the model directory\n",
    "scenario = '/Doutorado/cenarios/mandyoc/keel/Lx3000km/keel_stable_DT200_HprodAst_Lx3000km'\n",
    "# scenario = '/Doutorado/cenarios/mandyoc/keel/Lx3000km/keel_stable_DT290_HprodAst_Lx3000km'\n",
    "# scenario = '/Doutorado/cenarios/mandyoc/keel/Lx3000km/keel_stable_DT350_HprodAst_Lx3000km'\n",
    "\n",
    "# local = True\n",
    "local = False\n",
    "if(local==True):\n",
    "    model_path = machine_path + scenario\n",
    "else:\n",
    "    # scenario = '/RFT_Clc1_DT200_PT1292oC_lit80km_1x1km2_NHK'\n",
    "    external_media = 'Joao_Macedo'\n",
    "    model_path = f'/media/joao_macedo/{external_media}{scenario}'\n",
    "\n",
    "read_ascii = True # if False, it will skip the ascii reading and saving processes and it will read the datasets from previous runs\n",
    "save_images = True # Generate and save all the possible images\n",
    "save_big_dataset = False#True\n",
    "print(f'Model Path: {model_path}')\n",
    "\n",
    "model_name = os.path.split(model_path)[1]\n",
    "print(f'Model name: {model_name}')\n",
    "\n",
    "# Create the output directory to save the dataset\n",
    "output_path = os.path.join(model_path, \"_output\")\n",
    "# print(output_path)\n",
    "\n",
    "if not os.path.isdir(output_path):\n",
    "    os.makedirs(output_path)"
   ]
  },
  {
   "cell_type": "markdown",
   "metadata": {},
   "source": [
    "# Reading Dataset"
   ]
  },
  {
   "cell_type": "code",
   "execution_count": 20,
   "metadata": {},
   "outputs": [
    {
     "name": "stdout",
     "output_type": "stream",
     "text": [
      "<bound method Dataset.info of <xarray.Dataset>\n",
      "Dimensions:      (time: 401, x: 301, z: 71)\n",
      "Coordinates:\n",
      "  * time         (time) float64 0.0 2.498 4.998 7.498 ... 995.0 997.5 1e+03\n",
      "    step         (time) int32 ...\n",
      "  * x            (x) float64 0.0 1e+04 2e+04 3e+04 ... 2.98e+06 2.99e+06 3e+06\n",
      "  * z            (z) float64 -7e+05 -6.9e+05 -6.8e+05 ... -2e+04 -1e+04 0.0\n",
      "Data variables:\n",
      "    temperature  (time, x, z) float64 ...\n",
      "Attributes: (12/94)\n",
      "    nx:                                301\n",
      "    nz:                                71\n",
      "    lx:                                3000000.0\n",
      "    lz:                                700000.0\n",
      "    multigrid:                         1\n",
      "    solver:                            direct\n",
      "    ...                                ...\n",
      "    temperature_units:                 C\n",
      "    density_units:                     kg/m^3\n",
      "    heat_units:                        W/m^3\n",
      "    viscosity_units:                   Pa s\n",
      "    strain_rate_units:                 s^(-1)\n",
      "    pressure_units:                    Pa>\n"
     ]
    }
   ],
   "source": [
    "dataset = xr.open_dataset(f'{model_path}/_output_temperature.nc')\n",
    "\n",
    "Nx = int(dataset.nx)\n",
    "Nz = int(dataset.nz)\n",
    "Lx = float(dataset.lx)\n",
    "Lz = float(dataset.lz)\n",
    "\n",
    "instant = dataset.time[-1]\n",
    "\n",
    "x = np.linspace(0, Lx/1000.0, Nx)\n",
    "z = np.linspace(Lz/1000.0, 0, Nz)\n",
    "xx, zz  = np.meshgrid(x, z)\n",
    "\n",
    "print(dataset.info)"
   ]
  },
  {
   "cell_type": "code",
   "execution_count": 45,
   "metadata": {},
   "outputs": [],
   "source": [
    "#selec regions\n",
    "data = np.asarray(dataset.temperature[-1]).T\n",
    "\n",
    "xleft = (xx>=200) & (xx <= 300)\n",
    "xright = (xx>=1300) & (xx <= 1400)\n",
    "xcenter = (xx>=700) & (xx <= 900) #craton\n",
    "Datal = data[xleft].reshape(Nz, len(xleft[0][xleft[0]==True]))\n",
    "Datar = data[xright].reshape(Nz, len(xright[0][xright[0]==True]))\n",
    "Datac = data[xcenter].reshape(Nz, len(xcenter[0][xcenter[0]==True]))\n",
    "\n",
    "# #calc horizontal mean\n",
    "# Datal_mean = np.mean(Datal, axis=1)\n",
    "# Datar_mean = np.mean(Datar, axis=1)\n",
    "# Datac_mean = np.mean(Datac, axis=1)"
   ]
  },
  {
   "cell_type": "code",
   "execution_count": 44,
   "metadata": {},
   "outputs": [
    {
     "data": {
      "text/plain": [
       "array([[1700.63 , 1700.63 , 1700.63 , 1700.63 , 1700.63 , 1700.63 ,\n",
       "        1700.63 , 1700.63 , 1700.63 , 1700.63 , 1700.63 ],\n",
       "       [1656.   , 1656.94 , 1657.85 , 1658.74 , 1659.61 , 1660.45 ,\n",
       "        1661.23 , 1661.82 , 1662.37 , 1663.14 , 1664.03 ],\n",
       "       [1619.18 , 1620.59 , 1621.99 , 1623.37 , 1624.72 , 1626.05 ,\n",
       "        1627.31 , 1628.44 , 1629.55 , 1630.8  , 1632.09 ],\n",
       "       [1593.98 , 1595.36 , 1596.74 , 1598.12 , 1599.51 , 1600.89 ,\n",
       "        1602.26 , 1603.63 , 1605.04 , 1606.42 , 1607.7  ],\n",
       "       [1579.26 , 1580.28 , 1581.34 , 1582.43 , 1583.56 , 1584.72 ,\n",
       "        1585.91 , 1587.16 , 1588.46 , 1589.7  , 1590.86 ],\n",
       "       [1571.64 , 1572.22 , 1572.85 , 1573.54 , 1574.29 , 1575.09 ,\n",
       "        1575.95 , 1576.86 , 1577.82 , 1578.79 , 1579.77 ],\n",
       "       [1567.99 , 1568.15 , 1568.36 , 1568.64 , 1568.99 , 1569.39 ,\n",
       "        1569.85 , 1570.38 , 1570.97 , 1571.62 , 1572.33 ],\n",
       "       [1566.15 , 1565.96 , 1565.82 , 1565.74 , 1565.71 , 1565.74 ,\n",
       "        1565.82 , 1565.98 , 1566.21 , 1566.52 , 1566.93 ],\n",
       "       [1564.72 , 1564.31 , 1563.91 , 1563.53 , 1563.21 , 1562.92 ,\n",
       "        1562.68 , 1562.5  , 1562.41 , 1562.41 , 1562.51 ],\n",
       "       [1562.87 , 1562.34 , 1561.78 , 1561.21 , 1560.66 , 1560.13 ,\n",
       "        1559.64 , 1559.2  , 1558.85 , 1558.59 , 1558.42 ],\n",
       "       [1560.14 , 1559.6  , 1558.96 , 1558.27 , 1557.56 , 1556.85 ,\n",
       "        1556.18 , 1555.57 , 1555.02 , 1554.57 , 1554.21 ],\n",
       "       [1556.42 , 1555.91 , 1555.25 , 1554.49 , 1553.67 , 1552.84 ,\n",
       "        1552.04 , 1551.3  , 1550.63 , 1550.05 , 1549.6  ],\n",
       "       [1551.76 , 1551.32 , 1550.67 , 1549.86 , 1548.97 , 1548.04 ,\n",
       "        1547.14 , 1546.3  , 1545.55 , 1544.93 , 1544.45 ],\n",
       "       [1546.35 , 1546.   , 1545.37 , 1544.53 , 1543.57 , 1542.56 ,\n",
       "        1541.56 , 1540.65 , 1539.86 , 1539.23 , 1538.79 ],\n",
       "       [1540.42 , 1540.13 , 1539.52 , 1538.66 , 1537.65 , 1536.57 ,\n",
       "        1535.5  , 1534.54 , 1533.73 , 1533.14 , 1532.77 ],\n",
       "       [1534.15 , 1533.9  , 1533.31 , 1532.45 , 1531.41 , 1530.29 ,\n",
       "        1529.2  , 1528.22 , 1527.43 , 1526.89 , 1526.63 ],\n",
       "       [1527.73 , 1527.5  , 1526.93 , 1526.09 , 1525.07 , 1523.96 ,\n",
       "        1522.89 , 1521.94 , 1521.21 , 1520.77 , 1520.63 ],\n",
       "       [1521.36 , 1521.12 , 1520.57 , 1519.78 , 1518.82 , 1517.79 ,\n",
       "        1516.81 , 1515.96 , 1515.34 , 1515.01 , 1515.   ],\n",
       "       [1515.25 , 1514.98 , 1514.46 , 1513.75 , 1512.91 , 1512.02 ,\n",
       "        1511.19 , 1510.49 , 1510.01 , 1509.81 , 1509.92 ],\n",
       "       [1509.63 , 1509.34 , 1508.88 , 1508.27 , 1507.58 , 1506.87 ,\n",
       "        1506.22 , 1505.7  , 1505.38 , 1505.3  , 1505.5  ],\n",
       "       [1504.66 , 1504.39 , 1504.   , 1503.52 , 1503.   , 1502.48 ,\n",
       "        1502.01 , 1501.66 , 1501.47 , 1501.49 , 1501.73 ],\n",
       "       [1500.35 , 1500.15 , 1499.87 , 1499.55 , 1499.19 , 1498.85 ,\n",
       "        1498.55 , 1498.33 , 1498.23 , 1498.28 , 1498.52 ],\n",
       "       [1496.49 , 1496.44 , 1496.33 , 1496.18 , 1496.   , 1495.82 ,\n",
       "        1495.65 , 1495.52 , 1495.47 , 1495.52 , 1495.71 ],\n",
       "       [1492.72 , 1492.87 , 1492.98 , 1493.05 , 1493.06 , 1493.04 ,\n",
       "        1493.   , 1492.95 , 1492.93 , 1492.96 , 1493.09 ],\n",
       "       [1488.56 , 1488.95 , 1489.36 , 1489.7  , 1489.97 , 1490.16 ,\n",
       "        1490.28 , 1490.34 , 1490.37 , 1490.4  , 1490.49 ],\n",
       "       [1483.6  , 1484.28 , 1485.08 , 1485.79 , 1486.4  , 1486.89 ,\n",
       "        1487.24 , 1487.48 , 1487.62 , 1487.7  , 1487.79 ],\n",
       "       [1477.63 , 1478.61 , 1479.9  , 1481.11 , 1482.18 , 1483.08 ,\n",
       "        1483.78 , 1484.28 , 1484.59 , 1484.78 , 1484.93 ],\n",
       "       [1471.09 , 1472.26 , 1473.98 , 1475.72 , 1477.35 , 1478.79 ,\n",
       "        1479.94 , 1480.77 , 1481.32 , 1481.65 , 1481.88 ],\n",
       "       [1464.81 , 1466.14 , 1468.16 , 1470.35 , 1472.5  , 1474.43 ,\n",
       "        1475.99 , 1477.13 , 1477.89 , 1478.35 , 1478.66 ],\n",
       "       [1459.3  , 1460.8  , 1463.02 , 1465.55 , 1468.07 , 1470.35 ,\n",
       "        1472.19 , 1473.52 , 1474.41 , 1474.95 , 1475.3  ],\n",
       "       [1454.96 , 1456.64 , 1458.99 , 1461.69 , 1464.38 , 1466.76 ,\n",
       "        1468.66 , 1470.02 , 1470.92 , 1471.46 , 1471.79 ],\n",
       "       [1451.94 , 1453.76 , 1456.15 , 1458.83 , 1461.43 , 1463.65 ,\n",
       "        1465.38 , 1466.61 , 1467.4  , 1467.87 , 1468.13 ],\n",
       "       [1450.1  , 1451.98 , 1454.27 , 1456.7  , 1458.95 , 1460.8  ,\n",
       "        1462.2  , 1463.17 , 1463.78 , 1464.12 , 1464.29 ],\n",
       "       [1449.09 , 1450.88 , 1452.87 , 1454.83 , 1456.57 , 1457.94 ,\n",
       "        1458.93 , 1459.6  , 1460.   , 1460.18 , 1460.22 ],\n",
       "       [1448.3  , 1449.81 , 1451.33 , 1452.74 , 1453.93 , 1454.82 ,\n",
       "        1455.42 , 1455.79 , 1455.97 , 1455.97 , 1455.83 ],\n",
       "       [1447.02 , 1448.12 , 1449.16 , 1450.07 , 1450.78 , 1451.27 ,\n",
       "        1451.55 , 1451.66 , 1451.6  , 1451.39 , 1451.01 ],\n",
       "       [1444.79 , 1445.52 , 1446.15 , 1446.66 , 1447.01 , 1447.18 ,\n",
       "        1447.19 , 1447.04 , 1446.75 , 1446.3  , 1445.67 ],\n",
       "       [1441.53 , 1441.93 , 1442.24 , 1442.44 , 1442.5  , 1442.43 ,\n",
       "        1442.22 , 1441.86 , 1441.36 , 1440.71 , 1439.91 ],\n",
       "       [1437.28 , 1437.42 , 1437.5  , 1437.47 , 1437.34 , 1437.1  ,\n",
       "        1436.74 , 1436.26 , 1435.67 , 1434.97 , 1434.2  ],\n",
       "       [1432.27 , 1432.25 , 1432.18 , 1432.04 , 1431.83 , 1431.54 ,\n",
       "        1431.16 , 1430.71 , 1430.2  , 1429.65 , 1429.09 ],\n",
       "       [1426.85 , 1426.78 , 1426.69 , 1426.57 , 1426.42 , 1426.22 ,\n",
       "        1425.98 , 1425.71 , 1425.42 , 1425.14 , 1424.89 ],\n",
       "       [1421.34 , 1421.32 , 1421.33 , 1421.36 , 1421.39 , 1421.41 ,\n",
       "        1421.42 , 1421.43 , 1421.43 , 1421.44 , 1421.48 ],\n",
       "       [1416.03 , 1416.14 , 1416.32 , 1416.54 , 1416.81 , 1417.09 ,\n",
       "        1417.38 , 1417.67 , 1417.94 , 1418.2  , 1418.45 ],\n",
       "       [1411.3  , 1411.56 , 1411.9  , 1412.31 , 1412.77 , 1413.25 ,\n",
       "        1413.75 , 1414.23 , 1414.69 , 1415.11 , 1415.46 ],\n",
       "       [1407.5  , 1407.93 , 1408.43 , 1408.96 , 1409.51 , 1410.06 ,\n",
       "        1410.61 , 1411.14 , 1411.64 , 1412.08 , 1412.45 ],\n",
       "       [1404.69 , 1405.3  , 1405.92 , 1406.54 , 1407.12 , 1407.65 ,\n",
       "        1408.12 , 1408.54 , 1408.92 , 1409.25 , 1409.52 ],\n",
       "       [1402.19 , 1402.87 , 1403.58 , 1404.28 , 1404.94 , 1405.53 ,\n",
       "        1405.99 , 1406.32 , 1406.55 , 1406.69 , 1406.77 ],\n",
       "       [1398.74 , 1399.17 , 1399.68 , 1400.34 , 1401.18 , 1402.12 ,\n",
       "        1403.   , 1403.66 , 1404.05 , 1404.19 , 1404.15 ],\n",
       "       [1393.33 , 1392.88 , 1392.57 , 1392.66 , 1393.42 , 1394.89 ,\n",
       "        1396.79 , 1398.68 , 1400.12 , 1400.95 , 1401.24 ],\n",
       "       [1386.24 , 1384.33 , 1382.41 , 1380.93 , 1380.64 , 1381.98 ,\n",
       "        1384.91 , 1388.78 , 1392.54 , 1395.38 , 1397.03 ],\n",
       "       [1379.08 , 1375.61 , 1371.73 , 1367.87 , 1365.04 , 1364.5  ,\n",
       "        1366.97 , 1372.22 , 1378.88 , 1385.16 , 1389.75 ],\n",
       "       [1373.13 , 1368.66 , 1363.26 , 1357.15 , 1351.05 , 1346.71 ,\n",
       "        1346.   , 1350.04 , 1358.19 , 1368.08 , 1376.97 ],\n",
       "       [1367.24 , 1362.65 , 1356.75 , 1349.49 , 1341.07 , 1332.64 ,\n",
       "        1326.73 , 1326.19 , 1332.22 , 1343.39 , 1356.21 ],\n",
       "       [1357.02 , 1353.13 , 1347.85 , 1340.96 , 1332.27 , 1321.87 ,\n",
       "        1311.58 , 1304.8  , 1304.84 , 1312.76 , 1326.17 ],\n",
       "       [1335.82 , 1333.13 , 1329.22 , 1324.01 , 1317.37 , 1308.29 ,\n",
       "        1296.93 , 1286.16 , 1279.52 , 1280.17 , 1288.62 ],\n",
       "       [1298.54 , 1297.17 , 1294.93 , 1291.74 , 1287.53 , 1281.46 ,\n",
       "        1273.32 , 1264.33 , 1254.97 , 1249.08 , 1249.22 ],\n",
       "       [1244.92 , 1244.51 , 1243.58 , 1242.05 , 1239.91 , 1236.93 ,\n",
       "        1232.68 , 1227.13 , 1220.49 , 1214.43 , 1210.17 ],\n",
       "       [1178.64 , 1178.76 , 1178.6  , 1178.05 , 1177.12 , 1175.8  ,\n",
       "        1173.99 , 1171.58 , 1168.68 , 1165.33 , 1161.87 ],\n",
       "       [1104.43 , 1104.73 , 1104.86 , 1104.74 , 1104.37 , 1103.77 ,\n",
       "        1102.98 , 1102.01 , 1100.83 , 1099.41 , 1097.7  ],\n",
       "       [1026.02 , 1026.33 , 1026.53 , 1026.54 , 1026.37 , 1026.05 ,\n",
       "        1025.63 , 1025.12 , 1024.51 , 1023.76 , 1022.86 ],\n",
       "       [ 945.823,  946.078,  946.236,  946.263,  946.157,  945.94 ,\n",
       "         945.64 ,  945.274,  944.841,  944.332,  943.739],\n",
       "       [ 865.05 ,  865.217,  865.305,  865.301,  865.203,  865.016,\n",
       "         864.758,  864.444,  864.078,  863.66 ,  863.195],\n",
       "       [ 783.193,  783.283,  783.302,  783.26 ,  783.156,  782.982,\n",
       "         782.745,  782.463,  782.14 ,  781.778,  781.387],\n",
       "       [ 694.342,  694.38 ,  694.352,  694.28 ,  694.173,  694.02 ,\n",
       "         693.815,  693.573,  693.295,  692.985,  692.663],\n",
       "       [ 581.664,  581.671,  581.623,  581.545,  581.449,  581.325,\n",
       "         581.166,  580.973,  580.747,  580.497,  580.249],\n",
       "       [ 420.024,  420.012,  419.972,  419.913,  419.841,  419.752,\n",
       "         419.64 ,  419.504,  419.347,  419.177,  419.007],\n",
       "       [ 200.115,  200.103,  200.084,  200.055,  200.019,  199.976,\n",
       "         199.921,  199.855,  199.783,  199.708,  199.629],\n",
       "       [   0.   ,    0.   ,    0.   ,    0.   ,    0.   ,    0.   ,\n",
       "           0.   ,    0.   ,    0.   ,    0.   ,    0.   ],\n",
       "       [   0.   ,    0.   ,    0.   ,    0.   ,    0.   ,    0.   ,\n",
       "           0.   ,    0.   ,    0.   ,    0.   ,    0.   ],\n",
       "       [   0.   ,    0.   ,    0.   ,    0.   ,    0.   ,    0.   ,\n",
       "           0.   ,    0.   ,    0.   ,    0.   ,    0.   ],\n",
       "       [   0.   ,    0.   ,    0.   ,    0.   ,    0.   ,    0.   ,\n",
       "           0.   ,    0.   ,    0.   ,    0.   ,    0.   ]])"
      ]
     },
     "execution_count": 44,
     "metadata": {},
     "output_type": "execute_result"
    }
   ],
   "source": [
    "d = np.asarray(dataset.temperature[-1]).T\n",
    "# np.shape(d)\n",
    "d[xleft].reshape(Nz, len(xleft[0][xleft[0]==True]))"
   ]
  },
  {
   "cell_type": "code",
   "execution_count": null,
   "metadata": {},
   "outputs": [],
   "source": []
  }
 ],
 "metadata": {
  "kernelspec": {
   "display_name": "mpy",
   "language": "python",
   "name": "python3"
  },
  "language_info": {
   "codemirror_mode": {
    "name": "ipython",
    "version": 3
   },
   "file_extension": ".py",
   "mimetype": "text/x-python",
   "name": "python",
   "nbconvert_exporter": "python",
   "pygments_lexer": "ipython3",
   "version": "3.9.16"
  },
  "orig_nbformat": 4
 },
 "nbformat": 4,
 "nbformat_minor": 2
}
