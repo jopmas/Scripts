{
 "cells": [
  {
   "cell_type": "code",
   "execution_count": 51,
   "metadata": {},
   "outputs": [],
   "source": [
    "import os\n",
    "import sys\n",
    "import numpy as np\n",
    "import xarray as xr\n",
    "import matplotlib.pyplot as plt\n",
    "\n",
    "from collections import namedtuple"
   ]
  },
  {
   "cell_type": "code",
   "execution_count": 121,
   "metadata": {},
   "outputs": [],
   "source": [
    "class MandyocLayer:\n",
    "    def __init__(self, label, rheology, density, interface, effective_viscosity_scale_factor=1.0, radiogenic_heat_production=0.0):\n",
    "        \"\"\"\"\n",
    "        label: str\n",
    "            Layer name\n",
    "        rheology: str\n",
    "            Mineral rheology of the layer\n",
    "        density: float\n",
    "            Density of the layer [kg/m3]\n",
    "        effective_viscosity_scale_factor: float\n",
    "            Scale factor for the effective vistocisty\n",
    "        radiogenic_heat_production: float\n",
    "            Radiogenic heat production of the layer [W/kg]\n",
    "        \"\"\"\n",
    "\n",
    "        self.label = label\n",
    "        self.rheology = rheology\n",
    "        self.density = density\n",
    "        self.interface = interface\n",
    "        self.effective_viscosity_scale_factor = effective_viscosity_scale_factor\n",
    "        self.radiogenic_heat_production = radiogenic_heat_production\n",
    "    \n",
    "        self.rheological_property = namedtuple(self.rheology, ['pre_exponential_constant',\n",
    "                                                                'power_law_exponent',\n",
    "                                                                'activation_energy',\n",
    "                                                                'activation_volume'])\n",
    "        \n",
    "        if(self.rheology == 'wet_quartz'):\n",
    "            self.rheological_properties = self.rheological_property(8.574e-28, 4.0, 222.0e3, 0.0)\n",
    "        if(self.rheology == 'wet_olivine'):\n",
    "            self.rheological_properties = self.rheological_property(1.393e-14, 3.0, 429.0e3, 15.0e-6)\n",
    "        if(self.rheology == 'dry_olivine'):\n",
    "            self.rheological_properties = self.rheological_property(2.4168e-15, 3.5, 540.0e3, 25.0e-6)\n",
    "\n",
    "        self.pre_exponential_constant = self.rheological_properties.pre_exponential_constant\n",
    "        self.power_law_exponent = self.rheological_properties.power_law_exponent\n",
    "        self.activation_energy = self.rheological_properties.activation_energy\n",
    "        self.activation_volume = self.rheological_properties.activation_volume\n",
    "\n",
    "    "
   ]
  },
  {
   "cell_type": "code",
   "execution_count": 123,
   "metadata": {},
   "outputs": [
    {
     "data": {
      "text/plain": [
       "array([40., 40., 40., ..., 40., 40., 40.])"
      ]
     },
     "execution_count": 123,
     "metadata": {},
     "output_type": "execute_result"
    }
   ],
   "source": [
    "rho_lc = 2800 #lower crust density [kg/m3]\n",
    "C_lc = 1.0 #lower crust scaling factor\n",
    "H_lc = 2.5e-6 / 2700.0 #lower crust radiogenic heat production [W/kg]\n",
    "\n",
    "Nx = 1001\n",
    "thickness_lower_crust = 40.0\n",
    "lc_interface = np.ones(Nx) * thickness_lower_crust\n",
    "\n",
    "lower_crust = MandyocLayer('lower_crust', 'wet_quartz', rho_lc, lc_interface, C_lc, H_lc)\n",
    "lower_crust.pre_exponential_constant\n",
    "lower_crust.interface"
   ]
  },
  {
   "cell_type": "code",
   "execution_count": 118,
   "metadata": {},
   "outputs": [
    {
     "data": {
      "text/plain": [
       "array([40., 40., 40., 40., 40., 40., 40., 40., 40., 40., 40.])"
      ]
     },
     "execution_count": 118,
     "metadata": {},
     "output_type": "execute_result"
    }
   ],
   "source": []
  },
  {
   "cell_type": "code",
   "execution_count": 105,
   "metadata": {},
   "outputs": [
    {
     "data": {
      "text/plain": [
       "8.574e-28"
      ]
     },
     "execution_count": 105,
     "metadata": {},
     "output_type": "execute_result"
    }
   ],
   "source": []
  },
  {
   "cell_type": "code",
   "execution_count": 80,
   "metadata": {},
   "outputs": [
    {
     "data": {
      "text/plain": [
       "_tuplegetter(0, 'Alias for field number 0')"
      ]
     },
     "execution_count": 80,
     "metadata": {},
     "output_type": "execute_result"
    }
   ],
   "source": []
  },
  {
   "cell_type": "code",
   "execution_count": 108,
   "metadata": {},
   "outputs": [
    {
     "name": "stdout",
     "output_type": "stream",
     "text": [
      "8.574e-28\n",
      "4.0\n"
     ]
    }
   ],
   "source": []
  },
  {
   "cell_type": "code",
   "execution_count": null,
   "metadata": {},
   "outputs": [],
   "source": []
  }
 ],
 "metadata": {
  "kernelspec": {
   "display_name": "mpy",
   "language": "python",
   "name": "python3"
  },
  "language_info": {
   "codemirror_mode": {
    "name": "ipython",
    "version": 3
   },
   "file_extension": ".py",
   "mimetype": "text/x-python",
   "name": "python",
   "nbconvert_exporter": "python",
   "pygments_lexer": "ipython3",
   "version": "3.9.20"
  }
 },
 "nbformat": 4,
 "nbformat_minor": 2
}
