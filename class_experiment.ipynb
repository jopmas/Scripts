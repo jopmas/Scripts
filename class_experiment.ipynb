{
 "cells": [
  {
   "cell_type": "code",
   "execution_count": 1,
   "metadata": {},
   "outputs": [],
   "source": [
    "import os\n",
    "import sys\n",
    "import numpy as np\n",
    "import xarray as xr\n",
    "import matplotlib.pyplot as plt\n",
    "from typing import Type\n",
    "\n",
    "from collections import namedtuple"
   ]
  },
  {
   "cell_type": "code",
   "execution_count": 15,
   "metadata": {},
   "outputs": [],
   "source": [
    "class MandyocLayer:\n",
    "    def __init__(self, rheology: type, density, interface, effective_viscosity_scale_factor=1.0, radiogenic_heat_production=0.0):\n",
    "        \"\"\"\"\n",
    "        rheology: class\n",
    "            Rheological properties of the layer onbtained from LithologicalUnit class\n",
    "        density: float\n",
    "            Density of the layer [kg/m3]\n",
    "        effective_viscosity_scale_factor: float\n",
    "            Scale factor for the effective vistocisty\n",
    "        radiogenic_heat_production: float\n",
    "            Radiogenic heat production of the layer [W/kg]\n",
    "        \"\"\"\n",
    "\n",
    "        self.rheology = LithologicalUnit(rheology)\n",
    "        self.density = density\n",
    "        self.interface = interface\n",
    "        self.effective_viscosity_scale_factor = effective_viscosity_scale_factor\n",
    "        self.radiogenic_heat_production = radiogenic_heat_production\n",
    "        self.rheology_name = self.rheology.name\n",
    "        self.pre_exponential_constant = self.rheology.pre_exponential_constant\n",
    "        self.power_law_exponent = self.rheology.power_law_exponent\n",
    "        self.activation_energy = self.rheology.activation_energy\n",
    "        self.activation_volume = self.rheology.activation_volume\n",
    "    \n",
    "        # self.rheological_property = namedtuple(self.rheology, ['pre_exponential_constant',\n",
    "        #                                                         'power_law_exponent',\n",
    "        #                                                         'activation_energy',\n",
    "        #                                                         'activation_volume'])\n",
    "        \n",
    "        # if(self.rheology == 'wet_quartz'):\n",
    "        #     self.rheological_properties = self.rheological_property(8.574e-28, 4.0, 222.0e3, 0.0)\n",
    "        # if(self.rheology == 'wet_olivine'):\n",
    "        #     self.rheological_properties = self.rheological_property(1.393e-14, 3.0, 429.0e3, 15.0e-6)\n",
    "        # if(self.rheology == 'dry_olivine'):\n",
    "        #     self.rheological_properties = self.rheological_property(2.4168e-15, 3.5, 540.0e3, 25.0e-6)\n",
    "\n",
    "class LithologicalUnit:\n",
    "    \"\"\"\"\n",
    "    This class calls the respective rheological properties of the given mineral\n",
    "\n",
    "    mineral_name: class\n",
    "        Mineral rheology written in CamelCase. For example, WetOlivine, DryOlivine, WetQuartz\n",
    "    \"\"\"\n",
    "    def __init__(self, mineral_name: type):\n",
    "        self.mineral_name = mineral_name() # mineral_name is a class, so we need to call it to get the object\n",
    "        self.name = self.mineral_name.name\n",
    "        self.pre_exponential_constant = self.mineral_name.pre_exponential_constant\n",
    "        self.power_law_exponent = self.mineral_name.power_law_exponent\n",
    "        self.activation_energy = self.mineral_name.activation_energy\n",
    "        self.activation_volume = self.mineral_name.activation_volume\n",
    "\n",
    "class WetOlivine:\n",
    "    \"\"\"\n",
    "    Wet olivine rheological properties\n",
    "    \"\"\"\n",
    "    def __init__(self):\n",
    "        self.name = 'wet_olivine'\n",
    "        self.pre_exponential_constant = 1.393e-14\n",
    "        self.power_law_exponent = 3\n",
    "        self.activation_energy = 429.0e3\n",
    "        self.activation_volume = 15.0e-6\n",
    "\n",
    "class DryOlivine:\n",
    "    \"\"\"\n",
    "    Dry olivine rheological properties\n",
    "    \"\"\"\n",
    "    def __init__(self):\n",
    "        self.name = 'dry_olivine'\n",
    "        self.pre_exponential_constant = 2.4168e-15\n",
    "        self.power_law_exponent = 3.5\n",
    "        self.activation_energy = 540.0e3\n",
    "        self.activation_volume = 25.0e-6\n",
    "\n",
    "class WetQuartz:\n",
    "    \"\"\"\n",
    "    Wet quartz rheological properties\n",
    "    \"\"\"\n",
    "    def __init__(self):\n",
    "        self.name = 'wet_quartz'\n",
    "        self.pre_exponential_constant = 8.574e-28\n",
    "        self.power_law_exponent = 4.0\n",
    "        self.activation_energy = 222.0e3\n",
    "        self.activation_volume = 0.0\n",
    "\n",
    "class Air:\n",
    "    \"\"\"\n",
    "    Air rheological properties\n",
    "    \"\"\"\n",
    "    def __init__(self):\n",
    "        self.name = 'air'\n",
    "        self.pre_exponential_constant = 1.0e-18\n",
    "        self.power_law_exponent = 1.0\n",
    "        self.activation_energy = 0.0\n",
    "        self.activation_volume = 0.0\n",
    "    "
   ]
  },
  {
   "cell_type": "code",
   "execution_count": 112,
   "metadata": {},
   "outputs": [
    {
     "name": "stdout",
     "output_type": "stream",
     "text": [
      "C 1.0 1.0 1.0 1.0 1.0\n",
      "rho 3300.0 3354.0 2800.0 2800.0 1.0\n",
      "H 7.38e-12 9e-12 2.857142857142857e-10 9.25925925925926e-10 0.0\n",
      "A 1.393e-14 2.4168e-15 8.574e-28 8.574e-28 1e-18\n",
      "n 3 3.5 4.0 4.0 1.0\n",
      "Q 429000.0 540000.0 222000.0 222000.0 0.0\n",
      "V 1.5e-05 2.5e-05 0.0 0.0 0.0\n"
     ]
    }
   ],
   "source": [
    "Nx = 1001\n",
    "default_interface = np.ones(Nx) * 0\n",
    "\n",
    "asthenosphere = MandyocLayer(WetOlivine, 3300.0, default_interface, 1.0, 7.38e-12)\n",
    "lithospheric_mantle = MandyocLayer(DryOlivine, 3354.0, default_interface, 1.0, 9.0e-12)\n",
    "lower_crust = MandyocLayer(WetQuartz, 2800.0, default_interface, 1.0, 0.8e-6 / 2800.0)\n",
    "upper_crust = MandyocLayer(WetQuartz, 2800.0, default_interface, 1.0, 2.5e-6 / 2700.0)\n",
    "air = MandyocLayer(Air, 1.0, default_interface, 1.0, 0.0)\n",
    "\n",
    "stacked_layers = [asthenosphere, lithospheric_mantle, lower_crust, upper_crust, air] #bot to top\n",
    "\n",
    "#Build layer_properties according to the order of the stack_layers\n",
    "rheological_symbols = ['C', 'rho', 'H', 'A', 'n', 'Q', 'V']\n",
    "rheological_properties = ['effective_viscosity_scale_factor', 'density', 'radiogenic_heat_production', 'pre_exponential_constant', 'power_law_exponent', 'activation_energy', 'activation_volume']\n",
    "\n",
    "to_save = []\n",
    "for symbol, prop in zip(rheological_symbols, rheological_properties):\n",
    "    to_save.append(f\"{symbol} {' '.join([str(layer.__dict__[prop]) for layer in stacked_layers])}\")\n",
    "\n",
    "\n",
    "for line in to_save:\n",
    "    print(line)\n",
    "# layer_properties = f\"\"\"\n",
    "#                         C   {asthenosphere.effective_viscosity_scale_factor}   {lithospheric_mantle.effective_viscosity_scale_factor}   {lower_crust.effective_viscosity_scale_factor}   {upper_crust.effective_viscosity_scale_factor}   {air.effective_viscosity_scale_factor}\n",
    "#                         rho {asthenosphere.density}                            {lithospheric_mantle.density}                            {lower_crust.density}                            {upper_crust.density}                            {air.density}\n",
    "#                         H   {asthenosphere.radiogenic_heat_production}         {lithospheric_mantle.radiogenic_heat_production}         {lower_crust.radiogenic_heat_production}         {upper_crust.radiogenic_heat_production}         {air.radiogenic_heat_production}\n",
    "#                         A   {asthenosphere.pre_exponential_constant}           {lithospheric_mantle.pre_exponential_constant}           {lower_crust.pre_exponential_constant}           {upper_crust.pre_exponential_constantcrust}      {air.pre_exponential_constant}\n",
    "#                         n   {asthenosphere.power_law_exponent}                 {lithospheric_mantle.power_law_exponent}                 {lower_crust.power_law_exponent}                 {upper_crust.power_law_exponent}                 {air.power_law_exponent}\n",
    "#                         Q   {asthenosphere.activation_energy}                  {lithospheric_mantle.activation_energy}                  {lower_crust.activation_energy}                  {upper_crust.activation_energy}                  {air.activation_energy} \n",
    "#                         V   {asthenosphere.activation_volume}                  {lithospheric_mantle.activation_volume}                  {lower_crust.activation_volume}                  {upper_crust.activation_volume}                  {air.activation_volume}\n",
    "#                     \"\"\""
   ]
  },
  {
   "cell_type": "code",
   "execution_count": 13,
   "metadata": {},
   "outputs": [
    {
     "data": {
      "text/plain": [
       "<__main__.LithologicalUnit at 0x1296fe340>"
      ]
     },
     "execution_count": 13,
     "metadata": {},
     "output_type": "execute_result"
    }
   ],
   "source": [
    "rho_lc = 2800 #lower crust density [kg/m3]\n",
    "C_lc = 1.0 #lower crust scaling factor\n",
    "H_lc = 2.5e-6 / 2700.0 #lower crust radiogenic heat production [W/kg]\n",
    "\n",
    "Nx = 1001\n",
    "thickness_lower_crust = 40.0\n",
    "lc_interface = np.ones(Nx) * thickness_lower_crust\n",
    "\n",
    "lower_crust = MandyocLayer(WetOlivine, rho_lc, lc_interface, C_lc, H_lc)\n"
   ]
  },
  {
   "cell_type": "code",
   "execution_count": null,
   "metadata": {},
   "outputs": [],
   "source": []
  },
  {
   "cell_type": "code",
   "execution_count": null,
   "metadata": {},
   "outputs": [],
   "source": []
  },
  {
   "cell_type": "code",
   "execution_count": 118,
   "metadata": {},
   "outputs": [
    {
     "data": {
      "text/plain": [
       "array([40., 40., 40., 40., 40., 40., 40., 40., 40., 40., 40.])"
      ]
     },
     "execution_count": 118,
     "metadata": {},
     "output_type": "execute_result"
    }
   ],
   "source": []
  },
  {
   "cell_type": "code",
   "execution_count": 105,
   "metadata": {},
   "outputs": [
    {
     "data": {
      "text/plain": [
       "8.574e-28"
      ]
     },
     "execution_count": 105,
     "metadata": {},
     "output_type": "execute_result"
    }
   ],
   "source": []
  },
  {
   "cell_type": "code",
   "execution_count": 80,
   "metadata": {},
   "outputs": [
    {
     "data": {
      "text/plain": [
       "_tuplegetter(0, 'Alias for field number 0')"
      ]
     },
     "execution_count": 80,
     "metadata": {},
     "output_type": "execute_result"
    }
   ],
   "source": []
  },
  {
   "cell_type": "code",
   "execution_count": 108,
   "metadata": {},
   "outputs": [
    {
     "name": "stdout",
     "output_type": "stream",
     "text": [
      "8.574e-28\n",
      "4.0\n"
     ]
    }
   ],
   "source": []
  },
  {
   "cell_type": "code",
   "execution_count": null,
   "metadata": {},
   "outputs": [],
   "source": []
  }
 ],
 "metadata": {
  "kernelspec": {
   "display_name": "mpy",
   "language": "python",
   "name": "python3"
  },
  "language_info": {
   "codemirror_mode": {
    "name": "ipython",
    "version": 3
   },
   "file_extension": ".py",
   "mimetype": "text/x-python",
   "name": "python",
   "nbconvert_exporter": "python",
   "pygments_lexer": "ipython3",
   "version": "3.9.20"
  }
 },
 "nbformat": 4,
 "nbformat_minor": 2
}
