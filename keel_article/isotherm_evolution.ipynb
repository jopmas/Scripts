{
 "cells": [
  {
   "cell_type": "markdown",
   "id": "dda108f3",
   "metadata": {},
   "source": [
    "# Maping and plotting mean depth isotherms\n",
    "\n",
    "This notebook extract from temperature database the mean depth of a given `list` of isotherms over time."
   ]
  },
  {
   "cell_type": "code",
   "execution_count": 1,
   "id": "8e0ed4d4",
   "metadata": {},
   "outputs": [
    {
     "data": {
      "text/html": [
       "<style>.container { width:95% !important; }</style>"
      ],
      "text/plain": [
       "<IPython.core.display.HTML object>"
      ]
     },
     "metadata": {},
     "output_type": "display_data"
    },
    {
     "data": {
      "text/html": [
       "<style>.output_result { max-width:95% !important; }</style>"
      ],
      "text/plain": [
       "<IPython.core.display.HTML object>"
      ]
     },
     "metadata": {},
     "output_type": "display_data"
    }
   ],
   "source": [
    "#increase the display size to 95% of window width\n",
    "from IPython.display import display, HTML\n",
    "display(HTML(\"<style>.container { width:95% !important; }</style>\"))\n",
    "display(HTML(\"<style>.output_result { max-width:95% !important; }</style>\"))\n",
    "\n",
    "import os\n",
    "import gc\n",
    "import sys\n",
    "import glob\n",
    "import string\n",
    "import numpy as np\n",
    "import pylab as pl\n",
    "import xarray as xr\n",
    "import pandas as pd\n",
    "import matplotlib as mpl\n",
    "import mpl_toolkits.axisartist\n",
    "import matplotlib.pyplot as plt\n",
    "\n",
    "\n",
    "from scipy.interpolate import interp1d\n",
    "from matplotlib.ticker import (MultipleLocator,\n",
    "                               FormatStrFormatter,\n",
    "                               AutoMinorLocator)\n",
    "\n",
    "\n",
    "path = os.getcwd().split('/')\n",
    "machine_path = '/'+path[1]+'/'+path[2] #cat the /home/user/ or /Users/user from system using path\n",
    "\n",
    "sys.path.insert(0, f\"{machine_path}/opt/mandyoc-scripts/functions\")\n",
    "from mandyocIO import read_mandyoc_output, read_datasets, read_particle_path, single_plot, change_dataset, plot_property, _extract_interface, find_nearest"
   ]
  },
  {
   "cell_type": "code",
   "execution_count": 2,
   "id": "33997f64",
   "metadata": {},
   "outputs": [
    {
     "name": "stdout",
     "output_type": "stream",
     "text": [
      "Scernarios:\n",
      "stable_PT200_rheol19_c1250_C1_HprodAst\n",
      "<bound method Dataset.info of <xarray.Dataset>\n",
      "Dimensions:      (time: 401, x: 161, z: 71)\n",
      "Coordinates:\n",
      "  * time         (time) float64 0.0 2.5 5.0 7.5 10.0 ... 992.5 995.0 997.5 1e+03\n",
      "    step         (time) int32 ...\n",
      "  * x            (x) float64 0.0 1e+04 2e+04 3e+04 ... 1.58e+06 1.59e+06 1.6e+06\n",
      "  * z            (z) float64 -7e+05 -6.9e+05 -6.8e+05 ... -2e+04 -1e+04 0.0\n",
      "Data variables:\n",
      "    temperature  (time, x, z) float64 ...\n",
      "Attributes: (12/94)\n",
      "    nx:                                161\n",
      "    nz:                                71\n",
      "    lx:                                1600000.0\n",
      "    lz:                                700000.0\n",
      "    multigrid:                         1\n",
      "    solver:                            direct\n",
      "    ...                                ...\n",
      "    temperature_units:                 C\n",
      "    density_units:                     kg/m^3\n",
      "    heat_units:                        W/m^3\n",
      "    viscosity_units:                   Pa s\n",
      "    strain_rate_units:                 s^(-1)\n",
      "    pressure_units:                    Pa>\n"
     ]
    }
   ],
   "source": [
    "#Set scenario path\n",
    "local = False\n",
    "# local = True\n",
    "if(local==True):\n",
    "    model_path = machine_path\n",
    "else:\n",
    "    external_media = 'Joao_Macedo'\n",
    "    model_path = f\"/media/{machine_path.split('/')[-1]}/{external_media}\"\n",
    "\n",
    "scenarios = [\n",
    "             f\"{model_path}/Doutorado/cenarios/mandyoc/stable/lit80km/stable_PT200_rheol19_c1250_C1_HprodAst\",\n",
    "             ]\n",
    "\n",
    "print(f\"Scernarios:\")\n",
    "for scenario in scenarios:\n",
    "    print(f\"{scenario.split('/')[-1]}\")\n",
    "\n",
    "dataset = xr.open_dataset(f'{scenarios[0]}/_output_temperature.nc')\n",
    "\n",
    "Nx = int(dataset.nx)\n",
    "Nz = int(dataset.nz)\n",
    "Lx = float(dataset.lx)\n",
    "Lz = float(dataset.lz)\n",
    "\n",
    "x = np.linspace(0, Lx/1000.0, Nx)\n",
    "z = np.linspace(Lz/1000.0, 0, Nz)\n",
    "Z = np.linspace(Lz/1000.0, 0, 8001) #zi\n",
    "\n",
    "xx, zz  = np.meshgrid(x, z)\n",
    "\n",
    "print(dataset.info)"
   ]
  },
  {
   "cell_type": "code",
   "execution_count": null,
   "id": "33b2370d",
   "metadata": {},
   "outputs": [],
   "source": []
  },
  {
   "cell_type": "code",
   "execution_count": 3,
   "id": "379b59c1",
   "metadata": {},
   "outputs": [
    {
     "name": "stdout",
     "output_type": "stream",
     "text": [
      "Time: 1000.0 Myr; Step: 200000/200000, (100.25%).\r"
     ]
    }
   ],
   "source": [
    "t0 = dataset.time[0]\n",
    "t1 = dataset.time[1]\n",
    "dt = int(t1 - t0)\n",
    "\n",
    "start = int(t0)\n",
    "end = int(dataset.time.size - 1)\n",
    "step = 1\n",
    "\n",
    "# start = 0\n",
    "# end = 1\n",
    "# step = 1\n",
    "\n",
    "# interfaces = [0, 500, 800, 1000, 1300, 1400, 1500, 1600, 1700] #isotherms to be extracted\n",
    "interfaces = [0, 500, 800, 1300] #isotherms to be extracted\n",
    "# interfaces = [0]\n",
    "\n",
    "nrows=len(range(start, end+step, step))\n",
    "ncols=len(interfaces)+2 # +2 is to add step and time columns\n",
    "isots_evolution = []\n",
    "\n",
    "for i in range(start, end+step, step):\n",
    "    \n",
    "    Datai = dataset['temperature'][i].values.T\n",
    "    time  = float(dataset.time[i].values)\n",
    "    stp  = int(dataset.step[i].values)\n",
    "\n",
    "    per = np.round(100*(i+1-start)/(end-start), 2)\n",
    "    text = f\"Time: {np.round(float(time), 2)} Myr; Step: {int(stp)}/{int(dataset.step.max())}, ({per:.2f}%).\"\n",
    "    print(text, end='\\r')\n",
    "\n",
    "    isots_evolution.append(time)\n",
    "    isots_evolution.append(stp)\n",
    "\n",
    "    for interface in interfaces:\n",
    "        interf = _extract_interface(z, Z, Nx, Datai, interface)\n",
    "        interf_mean = round(np.mean(interf), 2)\n",
    "        isots_evolution.append(interf_mean)\n",
    "\n",
    "######################################################################################################################\n",
    "#Reshape data to plot and/or save\n",
    "        \n",
    "isots_evolution = np.asarray(isots_evolution)\n",
    "data_aux = isots_evolution\n",
    "isots_evolution = isots_evolution.reshape(nrows, ncols)\n",
    "\n",
    "#create xarray dataset of isotherms evolution\n",
    "coords = {\"time\": isots_evolution[::,0], \"step\": (\"time\", np.asarray(isots_evolution[::,1], dtype=int))}\n",
    "dims = (\"time\")\n",
    "data_aux = isots_evolution[::,2::]\n",
    "\n",
    "ds = xr.Dataset(coords=coords)\n",
    "\n",
    "for i in range(len(interfaces)):\n",
    "    ds[f\"isot{interfaces[i]}\"] = (dims, data_aux[::,i])"
   ]
  },
  {
   "cell_type": "code",
   "execution_count": 4,
   "id": "c3c6fdea",
   "metadata": {},
   "outputs": [],
   "source": [
    "save_txt = True\n",
    "# save_txt = False\n",
    "\n",
    "save_dataset = True\n",
    "# save_dataset = False\n",
    "\n",
    "if(save_txt):\n",
    "    filename = f\"{scenarios[0]}/{scenarios[0].split('/')[-1]}_isotherms_evolution.txt\"\n",
    "    np.savetxt(filename, isots_evolution)\n",
    "    \n",
    "if(save_dataset):\n",
    "    ds.to_netcdf(f\"{scenarios[0]}/_isotherms_evolution.nc\")\n",
    "    ds.to_netcdf(f\"{scenarios[0].split('/')[-1]}_isotherms_evolution.nc\")"
   ]
  },
  {
   "cell_type": "code",
   "execution_count": 5,
   "id": "e0de2b12",
   "metadata": {},
   "outputs": [
    {
     "data": {
      "image/png": "[encoded data removed]",
      "text/plain": [
       "<Figure size 1000x500 with 1 Axes>"
      ]
     },
     "metadata": {},
     "output_type": "display_data"
    }
   ],
   "source": [
    "plt.close()\n",
    "mpl.rcParams['axes.prop_cycle'] = mpl.cycler(color=['xkcd:cerulean blue',\n",
    "                                                    'xkcd:dark green',\n",
    "                                                    'xkcd:scarlet',\n",
    "                                                    'xkcd:light orange',\n",
    "                                                    'xkcd:lighter purple',\n",
    "                                                    ]) \n",
    "label_fsize = 14\n",
    "plt.rc('xtick', labelsize=label_fsize)\n",
    "plt.rc('ytick', labelsize=label_fsize)\n",
    "\n",
    "fig, ax = plt.subplots(1, 1, figsize=(10, 5))\n",
    "h_air = 40\n",
    "for interface in interfaces[1::]:\n",
    "    ax.plot(ds.time, ds[f'isot{interface}']-h_air, label=f'{interface} °C')\n",
    "\n",
    "\n",
    "ax.set_ylim([300, 0])\n",
    "ax.set_xlim([0, 1000])\n",
    "ax.set_xlabel('Time [Myr]', fontsize=label_fsize)\n",
    "ax.set_ylabel('Depth [km]', fontsize=label_fsize)\n",
    "ax.legend(fontsize=label_fsize)\n",
    "ax.grid('k', alpha=0.7)\n",
    "\n",
    "figname = f\"{scenarios[0].split('/')[-1]}_isotherms_evolution\"\n",
    "\n",
    "save_fig = True\n",
    "# save_fig = False\n",
    "if(save_fig):\n",
    "    fig.savefig(f\"figures/{figname}.png\", dpi=300)\n",
    "    fig.savefig(f\"figures/{figname}.pdf\", dpi=300)\n",
    "    fig.savefig(f\"{scenarios[0]}/{figname}.png\", dpi=300)\n",
    "    fig.savefig(f\"{scenarios[0]}/{figname}.pdf\", dpi=300)"
   ]
  },
  {
   "cell_type": "code",
   "execution_count": null,
   "id": "3cd6dfb9",
   "metadata": {},
   "outputs": [],
   "source": []
  }
 ],
 "metadata": {
  "hide_input": false,
  "kernelspec": {
   "display_name": "Python 3 (ipykernel)",
   "language": "python",
   "name": "python3"
  },
  "language_info": {
   "codemirror_mode": {
    "name": "ipython",
    "version": 3
   },
   "file_extension": ".py",
   "mimetype": "text/x-python",
   "name": "python",
   "nbconvert_exporter": "python",
   "pygments_lexer": "ipython3",
   "version": "3.9.16"
  }
 },
 "nbformat": 4,
 "nbformat_minor": 5
}
